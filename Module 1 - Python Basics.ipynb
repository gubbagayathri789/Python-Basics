{
 "cells": [
  {
   "cell_type": "code",
   "execution_count": 1,
   "id": "e12a4e51",
   "metadata": {},
   "outputs": [
    {
     "name": "stdout",
     "output_type": "stream",
     "text": [
      "Hello world\n"
     ]
    }
   ],
   "source": [
    "print(\"Hello world\")"
   ]
  },
  {
   "cell_type": "code",
   "execution_count": 1,
   "id": "252b7e28",
   "metadata": {},
   "outputs": [
    {
     "name": "stdout",
     "output_type": "stream",
     "text": [
      "3.9.7 (default, Sep 16 2021, 16:59:28) [MSC v.1916 64 bit (AMD64)]\n"
     ]
    }
   ],
   "source": [
    "import sys\n",
    "print(sys.version)"
   ]
  },
  {
   "cell_type": "markdown",
   "id": "56a73c65",
   "metadata": {},
   "source": [
    "# Types(int,float,str)"
   ]
  },
  {
   "cell_type": "code",
   "execution_count": 5,
   "id": "268cd879",
   "metadata": {},
   "outputs": [
    {
     "data": {
      "text/plain": [
       "int"
      ]
     },
     "execution_count": 5,
     "metadata": {},
     "output_type": "execute_result"
    }
   ],
   "source": [
    "#Types(int,float,str)\n",
    "type(12)"
   ]
  },
  {
   "cell_type": "code",
   "execution_count": 6,
   "id": "c281c683",
   "metadata": {},
   "outputs": [
    {
     "data": {
      "text/plain": [
       "float"
      ]
     },
     "execution_count": 6,
     "metadata": {},
     "output_type": "execute_result"
    }
   ],
   "source": [
    "type(2.14)"
   ]
  },
  {
   "cell_type": "code",
   "execution_count": 7,
   "id": "06c75775",
   "metadata": {},
   "outputs": [
    {
     "data": {
      "text/plain": [
       "str"
      ]
     },
     "execution_count": 7,
     "metadata": {},
     "output_type": "execute_result"
    }
   ],
   "source": [
    "type(\"Hello, Python 101!\")"
   ]
  },
  {
   "cell_type": "code",
   "execution_count": 14,
   "id": "2abd5257",
   "metadata": {},
   "outputs": [
    {
     "data": {
      "text/plain": [
       "bool"
      ]
     },
     "execution_count": 14,
     "metadata": {},
     "output_type": "execute_result"
    }
   ],
   "source": [
    "type(True)"
   ]
  },
  {
   "cell_type": "code",
   "execution_count": 15,
   "id": "b89f12e2",
   "metadata": {},
   "outputs": [
    {
     "data": {
      "text/plain": [
       "bool"
      ]
     },
     "execution_count": 15,
     "metadata": {},
     "output_type": "execute_result"
    }
   ],
   "source": [
    "type(False)"
   ]
  },
  {
   "cell_type": "markdown",
   "id": "cce8ccbc",
   "metadata": {},
   "source": [
    "# TypeCasting "
   ]
  },
  {
   "cell_type": "code",
   "execution_count": 8,
   "id": "d6a2e608",
   "metadata": {},
   "outputs": [
    {
     "data": {
      "text/plain": [
       "2.0"
      ]
     },
     "execution_count": 8,
     "metadata": {},
     "output_type": "execute_result"
    }
   ],
   "source": [
    "#TypeCasting\n",
    "float(2)#converting integer to float"
   ]
  },
  {
   "cell_type": "code",
   "execution_count": 9,
   "id": "0b95a9f9",
   "metadata": {
    "scrolled": true
   },
   "outputs": [
    {
     "data": {
      "text/plain": [
       "1"
      ]
     },
     "execution_count": 9,
     "metadata": {},
     "output_type": "execute_result"
    }
   ],
   "source": [
    "int(1.1)#converting float to integer"
   ]
  },
  {
   "cell_type": "code",
   "execution_count": 10,
   "id": "0157b111",
   "metadata": {},
   "outputs": [
    {
     "data": {
      "text/plain": [
       "1"
      ]
     },
     "execution_count": 10,
     "metadata": {},
     "output_type": "execute_result"
    }
   ],
   "source": [
    "int('1')#converting string to integer"
   ]
  },
  {
   "cell_type": "code",
   "execution_count": 11,
   "id": "b4ff8623",
   "metadata": {},
   "outputs": [
    {
     "data": {
      "text/plain": [
       "1.1"
      ]
     },
     "execution_count": 11,
     "metadata": {},
     "output_type": "execute_result"
    }
   ],
   "source": [
    "float('1.1')#converting string to float"
   ]
  },
  {
   "cell_type": "code",
   "execution_count": 12,
   "id": "0af96e11",
   "metadata": {},
   "outputs": [
    {
     "data": {
      "text/plain": [
       "'1'"
      ]
     },
     "execution_count": 12,
     "metadata": {},
     "output_type": "execute_result"
    }
   ],
   "source": [
    "\n",
    "str(1)# Converting integer to string\n"
   ]
  },
  {
   "cell_type": "code",
   "execution_count": 13,
   "id": "d96b4e0e",
   "metadata": {},
   "outputs": [
    {
     "data": {
      "text/plain": [
       "'1.1'"
      ]
     },
     "execution_count": 13,
     "metadata": {},
     "output_type": "execute_result"
    }
   ],
   "source": [
    "\n",
    "str(1.1)#converting float to string"
   ]
  },
  {
   "cell_type": "code",
   "execution_count": 19,
   "id": "023adb6e",
   "metadata": {},
   "outputs": [
    {
     "data": {
      "text/plain": [
       "1"
      ]
     },
     "execution_count": 19,
     "metadata": {},
     "output_type": "execute_result"
    }
   ],
   "source": [
    "\n",
    "int(True)# Convertint True to int"
   ]
  },
  {
   "cell_type": "code",
   "execution_count": 20,
   "id": "dbf35eb7",
   "metadata": {},
   "outputs": [
    {
     "data": {
      "text/plain": [
       "False"
      ]
     },
     "execution_count": 20,
     "metadata": {},
     "output_type": "execute_result"
    }
   ],
   "source": [
    "\n",
    "bool(0)#converting 0 to boolean"
   ]
  },
  {
   "cell_type": "code",
   "execution_count": 21,
   "id": "5e4e9430",
   "metadata": {},
   "outputs": [
    {
     "name": "stdout",
     "output_type": "stream",
     "text": [
      "3.0\n"
     ]
    }
   ],
   "source": [
    "print(6/2)#float division operater"
   ]
  },
  {
   "cell_type": "code",
   "execution_count": 22,
   "id": "caadf1b6",
   "metadata": {},
   "outputs": [
    {
     "name": "stdout",
     "output_type": "stream",
     "text": [
      "3\n"
     ]
    }
   ],
   "source": [
    "print(6//2)#integer division operator"
   ]
  },
  {
   "cell_type": "markdown",
   "id": "1afb12d0",
   "metadata": {},
   "source": [
    "# Expressions and Variables"
   ]
  },
  {
   "cell_type": "code",
   "execution_count": 23,
   "id": "e1d41d75",
   "metadata": {},
   "outputs": [
    {
     "data": {
      "text/plain": [
       "1920"
      ]
     },
     "execution_count": 23,
     "metadata": {},
     "output_type": "execute_result"
    }
   ],
   "source": [
    "#Expressions\n",
    "(30 + 2) * 60"
   ]
  },
  {
   "cell_type": "code",
   "execution_count": 27,
   "id": "accfd427",
   "metadata": {},
   "outputs": [
    {
     "name": "stdout",
     "output_type": "stream",
     "text": [
      "160\n"
     ]
    },
    {
     "data": {
      "text/plain": [
       "160"
      ]
     },
     "execution_count": 27,
     "metadata": {},
     "output_type": "execute_result"
    }
   ],
   "source": [
    "#Variables\n",
    "x = 43 + 60 + 16 + 41\n",
    "print(x)"
   ]
  },
  {
   "cell_type": "code",
   "execution_count": 26,
   "id": "05bd27ae",
   "metadata": {},
   "outputs": [
    {
     "data": {
      "text/plain": [
       "160"
      ]
     },
     "execution_count": 26,
     "metadata": {},
     "output_type": "execute_result"
    }
   ],
   "source": [
    "x"
   ]
  },
  {
   "cell_type": "markdown",
   "id": "c8819169",
   "metadata": {},
   "source": [
    "# String Operations,Indexing,Escape sequences"
   ]
  },
  {
   "cell_type": "code",
   "execution_count": 31,
   "id": "a1ee847d",
   "metadata": {},
   "outputs": [
    {
     "name": "stdout",
     "output_type": "stream",
     "text": [
      "Hello!\n"
     ]
    },
    {
     "data": {
      "text/plain": [
       "'Hello'"
      ]
     },
     "execution_count": 31,
     "metadata": {},
     "output_type": "execute_result"
    }
   ],
   "source": [
    "\n",
    "print(\"Hello!\")\n",
    "\"Hello\""
   ]
  },
  {
   "cell_type": "code",
   "execution_count": 33,
   "id": "c8461dcc",
   "metadata": {},
   "outputs": [
    {
     "name": "stdout",
     "output_type": "stream",
     "text": [
      "Gayathri\n"
     ]
    },
    {
     "data": {
      "text/plain": [
       "'Gayathri'"
      ]
     },
     "execution_count": 33,
     "metadata": {},
     "output_type": "execute_result"
    }
   ],
   "source": [
    "name = \"Gayathri\"# Assign string to variable\n",
    "print(name)\n",
    "name"
   ]
  },
  {
   "cell_type": "code",
   "execution_count": null,
   "id": "25a063a1",
   "metadata": {},
   "outputs": [],
   "source": [
    "# Indexing\n",
    "print(name[0])\n",
    "print(name[1])\n",
    "print(name[2])\n",
    "print(name[3])"
   ]
  },
  {
   "cell_type": "code",
   "execution_count": 35,
   "id": "675dffd9",
   "metadata": {},
   "outputs": [
    {
     "name": "stdout",
     "output_type": "stream",
     "text": [
      "i\n"
     ]
    }
   ],
   "source": [
    "# Negative Indexing\n",
    "print(name[-1])"
   ]
  },
  {
   "cell_type": "code",
   "execution_count": 36,
   "id": "3bc6b45a",
   "metadata": {},
   "outputs": [
    {
     "data": {
      "text/plain": [
       "'Gaya'"
      ]
     },
     "execution_count": 36,
     "metadata": {},
     "output_type": "execute_result"
    }
   ],
   "source": [
    "#slicing\n",
    "name[0:4]"
   ]
  },
  {
   "cell_type": "code",
   "execution_count": 37,
   "id": "4481206d",
   "metadata": {},
   "outputs": [
    {
     "data": {
      "text/plain": [
       "'Gytr'"
      ]
     },
     "execution_count": 37,
     "metadata": {},
     "output_type": "execute_result"
    }
   ],
   "source": [
    "name[::2]"
   ]
  },
  {
   "cell_type": "code",
   "execution_count": 38,
   "id": "1aa9c310",
   "metadata": {},
   "outputs": [
    {
     "data": {
      "text/plain": [
       "'Gyt'"
      ]
     },
     "execution_count": 38,
     "metadata": {},
     "output_type": "execute_result"
    }
   ],
   "source": [
    "name[0:6:2]"
   ]
  },
  {
   "cell_type": "code",
   "execution_count": 40,
   "id": "0ab2b509",
   "metadata": {},
   "outputs": [
    {
     "name": "stdout",
     "output_type": "stream",
     "text": [
      "Gayathri lives in Hyderabad\n"
     ]
    },
    {
     "data": {
      "text/plain": [
       "'Gayathri lives in Hyderabad'"
      ]
     },
     "execution_count": 40,
     "metadata": {},
     "output_type": "execute_result"
    }
   ],
   "source": [
    "Info= name + \" lives in Hyderabad\"\n",
    "print(Info)\n",
    "Info"
   ]
  },
  {
   "cell_type": "code",
   "execution_count": 42,
   "id": "dd9cea3f",
   "metadata": {},
   "outputs": [
    {
     "name": "stdout",
     "output_type": "stream",
     "text": [
      "Gayathri\n",
      "lives in Hyderabad\n"
     ]
    }
   ],
   "source": [
    "print(\"Gayathri\\nlives in Hyderabad\")#New line ecsape sequence"
   ]
  },
  {
   "cell_type": "code",
   "execution_count": 43,
   "id": "7bd06592",
   "metadata": {},
   "outputs": [
    {
     "name": "stdout",
     "output_type": "stream",
     "text": [
      "Gayathri\tlives in Hyderabad\n"
     ]
    }
   ],
   "source": [
    "print(\"Gayathri\\tlives in Hyderabad\")#tab ecsape sequence"
   ]
  },
  {
   "cell_type": "code",
   "execution_count": 47,
   "id": "c3bad96b",
   "metadata": {},
   "outputs": [
    {
     "name": "stdout",
     "output_type": "stream",
     "text": [
      "GAYATHRI\n"
     ]
    }
   ],
   "source": [
    "#string operations on data\n",
    "#upper() method\n",
    "conv_to_upper=name.upper()\n",
    "print(conv_to_upper)"
   ]
  },
  {
   "cell_type": "code",
   "execution_count": 48,
   "id": "b9edc51f",
   "metadata": {},
   "outputs": [
    {
     "name": "stdout",
     "output_type": "stream",
     "text": [
      "gayathri\n"
     ]
    }
   ],
   "source": [
    "#lower() method\n",
    "conv_to_lower=name.lower()\n",
    "print(conv_to_lower)"
   ]
  },
  {
   "cell_type": "code",
   "execution_count": 50,
   "id": "0a0f5158",
   "metadata": {},
   "outputs": [
    {
     "name": "stdout",
     "output_type": "stream",
     "text": [
      "Gayathri located in Hyderabad\n"
     ]
    }
   ],
   "source": [
    "#replace() method\n",
    "place=\"Gayathri lives in Hyderabad\"\n",
    "new_stmt=place.replace('lives','located')\n",
    "print(new_stmt)"
   ]
  },
  {
   "cell_type": "code",
   "execution_count": 51,
   "id": "553d125b",
   "metadata": {},
   "outputs": [
    {
     "data": {
      "text/plain": [
       "4"
      ]
     },
     "execution_count": 51,
     "metadata": {},
     "output_type": "execute_result"
    }
   ],
   "source": [
    "#find() method\n",
    "name.find('th')"
   ]
  },
  {
   "cell_type": "markdown",
   "id": "f4af4608",
   "metadata": {},
   "source": [
    "# Fstring"
   ]
  },
  {
   "cell_type": "code",
   "execution_count": 1,
   "id": "87cae3f7",
   "metadata": {},
   "outputs": [
    {
     "name": "stdout",
     "output_type": "stream",
     "text": [
      "My name is Gayathri\n"
     ]
    }
   ],
   "source": [
    "name=\"Gayathri\"\n",
    "print(f\"My name is {name}\")"
   ]
  },
  {
   "cell_type": "code",
   "execution_count": 8,
   "id": "90700c8a",
   "metadata": {},
   "outputs": [
    {
     "name": "stdout",
     "output_type": "stream",
     "text": [
      "My firstname is Gayathri My lastname is Gubba\n",
      "My firstname is Gayathri \t My last name is Gubba\n"
     ]
    }
   ],
   "source": [
    "firstName=\"Gayathri\"\n",
    "lastName=\"Gubba\"\n",
    "print(\"My firstname is \"+firstName+\" My lastname is \"+lastName)\n",
    "print(f\"My firstname is {firstName} \\t My last name is {lastName}\")"
   ]
  },
  {
   "cell_type": "code",
   "execution_count": 9,
   "id": "fe31c854",
   "metadata": {},
   "outputs": [
    {
     "name": "stdout",
     "output_type": "stream",
     "text": [
      "Testing git\n"
     ]
    }
   ],
   "source": [
    "print(\"Testing git\")"
   ]
  },
  {
   "cell_type": "code",
   "execution_count": null,
   "id": "8a95e34f",
   "metadata": {},
   "outputs": [],
   "source": []
  }
 ],
 "metadata": {
  "kernelspec": {
   "display_name": "Python 3 (ipykernel)",
   "language": "python",
   "name": "python3"
  },
  "language_info": {
   "codemirror_mode": {
    "name": "ipython",
    "version": 3
   },
   "file_extension": ".py",
   "mimetype": "text/x-python",
   "name": "python",
   "nbconvert_exporter": "python",
   "pygments_lexer": "ipython3",
   "version": "3.9.7"
  }
 },
 "nbformat": 4,
 "nbformat_minor": 5
}

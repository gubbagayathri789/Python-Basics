{
 "cells": [
  {
   "cell_type": "markdown",
   "id": "d78d2160",
   "metadata": {},
   "source": [
    "# Tuples"
   ]
  },
  {
   "cell_type": "code",
   "execution_count": 1,
   "id": "227ddbab",
   "metadata": {},
   "outputs": [
    {
     "data": {
      "text/plain": [
       "('Hii', 10, 1.2)"
      ]
     },
     "execution_count": 1,
     "metadata": {},
     "output_type": "execute_result"
    }
   ],
   "source": [
    "tuple1 = (\"Hii\",10,1.2 )#creatinf first tuple\n",
    "tuple1"
   ]
  },
  {
   "cell_type": "code",
   "execution_count": 2,
   "id": "2db46119",
   "metadata": {},
   "outputs": [
    {
     "name": "stdout",
     "output_type": "stream",
     "text": [
      "Hii\n",
      "10\n",
      "1.2\n"
     ]
    }
   ],
   "source": [
    "#Indexing\n",
    "print(tuple1[0])\n",
    "print(tuple1[1])\n",
    "print(tuple1[2])"
   ]
  },
  {
   "cell_type": "code",
   "execution_count": 3,
   "id": "3dc1a406",
   "metadata": {},
   "outputs": [
    {
     "data": {
      "text/plain": [
       "1.2"
      ]
     },
     "execution_count": 3,
     "metadata": {},
     "output_type": "execute_result"
    }
   ],
   "source": [
    "tuple1[-1]#negative indexing"
   ]
  },
  {
   "cell_type": "code",
   "execution_count": 4,
   "id": "812e4a0a",
   "metadata": {},
   "outputs": [
    {
     "data": {
      "text/plain": [
       "('Hii', 10, 1.2, 'hard', 10)"
      ]
     },
     "execution_count": 4,
     "metadata": {},
     "output_type": "execute_result"
    }
   ],
   "source": [
    "tuple2 = tuple1 + (\"hard\", 10)#concatinating two tuples\n",
    "tuple2"
   ]
  },
  {
   "cell_type": "code",
   "execution_count": 5,
   "id": "3887d37e",
   "metadata": {},
   "outputs": [
    {
     "data": {
      "text/plain": [
       "('Hii', 10, 1.2)"
      ]
     },
     "execution_count": 5,
     "metadata": {},
     "output_type": "execute_result"
    }
   ],
   "source": [
    "#slicing\n",
    "tuple2[0:3]"
   ]
  },
  {
   "cell_type": "code",
   "execution_count": 6,
   "id": "333c6170",
   "metadata": {},
   "outputs": [
    {
     "data": {
      "text/plain": [
       "5"
      ]
     },
     "execution_count": 6,
     "metadata": {},
     "output_type": "execute_result"
    }
   ],
   "source": [
    "len(tuple2)#length of tuple"
   ]
  },
  {
   "cell_type": "code",
   "execution_count": 7,
   "id": "b3ed34c2",
   "metadata": {},
   "outputs": [
    {
     "data": {
      "text/plain": [
       "[0, 2, 5, 6, 6, 8, 9, 9, 10]"
      ]
     },
     "execution_count": 7,
     "metadata": {},
     "output_type": "execute_result"
    }
   ],
   "source": [
    "#sorting\n",
    "Grades= (0, 9, 6, 5, 10, 8, 9, 6, 2)\n",
    "Gradessorted=sorted(Grades)\n",
    "Gradessorted"
   ]
  },
  {
   "cell_type": "code",
   "execution_count": 10,
   "id": "64640346",
   "metadata": {},
   "outputs": [
    {
     "name": "stdout",
     "output_type": "stream",
     "text": [
      "('pop', 'rock')\n",
      "rock\n"
     ]
    }
   ],
   "source": [
    "NT =(1, 2, (\"pop\", \"rock\") ,(3,4),(\"disco\",(1,2)))#nested tuple\n",
    "print(NT[2])\n",
    "print(NT[2][1])"
   ]
  },
  {
   "cell_type": "markdown",
   "id": "d0be853e",
   "metadata": {},
   "source": [
    "# Lists"
   ]
  },
  {
   "cell_type": "code",
   "execution_count": 11,
   "id": "2a5ead78",
   "metadata": {},
   "outputs": [
    {
     "data": {
      "text/plain": [
       "['Hello world', 10.1, 1982, [1, 2], ('A', 1), 1]"
      ]
     },
     "execution_count": 11,
     "metadata": {},
     "output_type": "execute_result"
    }
   ],
   "source": [
    "L = [\"Hello world\", 10.1,1982,[1, 2], (\"A\", 1),1]#creating list\n",
    "L"
   ]
  },
  {
   "cell_type": "code",
   "execution_count": 12,
   "id": "49317a6f",
   "metadata": {},
   "outputs": [
    {
     "data": {
      "text/plain": [
       "[[1, 2], ('A', 1)]"
      ]
     },
     "execution_count": 12,
     "metadata": {},
     "output_type": "execute_result"
    }
   ],
   "source": [
    "L[3:5]#list slicing"
   ]
  },
  {
   "cell_type": "code",
   "execution_count": 17,
   "id": "d26ecba8",
   "metadata": {},
   "outputs": [
    {
     "data": {
      "text/plain": [
       "['Hello world',\n",
       " 10.1,\n",
       " 1982,\n",
       " [1, 2],\n",
       " ('A', 1),\n",
       " 1,\n",
       " 'pop',\n",
       " 10,\n",
       " 'pop',\n",
       " 10,\n",
       " 'pop',\n",
       " 10,\n",
       " 'pop',\n",
       " 10]"
      ]
     },
     "execution_count": 17,
     "metadata": {},
     "output_type": "execute_result"
    }
   ],
   "source": [
    "#extend() method\n",
    "L.extend(['pop', 10])\n",
    "L"
   ]
  },
  {
   "cell_type": "code",
   "execution_count": 18,
   "id": "e81e0aaa",
   "metadata": {},
   "outputs": [
    {
     "data": {
      "text/plain": [
       "['Hello world',\n",
       " 10.1,\n",
       " 1982,\n",
       " [1, 2],\n",
       " ('A', 1),\n",
       " 1,\n",
       " 'pop',\n",
       " 10,\n",
       " 'pop',\n",
       " 10,\n",
       " 'pop',\n",
       " 10,\n",
       " 'pop',\n",
       " 10,\n",
       " ['pop', 10]]"
      ]
     },
     "execution_count": 18,
     "metadata": {},
     "output_type": "execute_result"
    }
   ],
   "source": [
    "#append method\n",
    "L.append(['pop', 10])\n",
    "L"
   ]
  },
  {
   "cell_type": "code",
   "execution_count": 19,
   "id": "72821760",
   "metadata": {},
   "outputs": [
    {
     "name": "stdout",
     "output_type": "stream",
     "text": [
      "Before change: ['disco', 10, 1.2]\n",
      "After change: ['hard rock', 10, 1.2]\n"
     ]
    }
   ],
   "source": [
    "A = [\"disco\", 10, 1.2]\n",
    "print('Before change:', A)#changing element based on index\n",
    "A[0] = 'hard rock'\n",
    "print('After change:', A)"
   ]
  },
  {
   "cell_type": "code",
   "execution_count": 20,
   "id": "2214bf6b",
   "metadata": {},
   "outputs": [
    {
     "name": "stdout",
     "output_type": "stream",
     "text": [
      "Before change: ['hard rock', 10, 1.2]\n",
      "After change: [10, 1.2]\n"
     ]
    }
   ],
   "source": [
    "print('Before change:', A)#deleting element based on index\n",
    "del(A[0])\n",
    "print('After change:', A)"
   ]
  },
  {
   "cell_type": "code",
   "execution_count": 21,
   "id": "50d8efdc",
   "metadata": {},
   "outputs": [
    {
     "data": {
      "text/plain": [
       "['hard', 'rock']"
      ]
     },
     "execution_count": 21,
     "metadata": {},
     "output_type": "execute_result"
    }
   ],
   "source": [
    "'hard rock'.split()#splitting string by space"
   ]
  },
  {
   "cell_type": "code",
   "execution_count": 22,
   "id": "3cd3c935",
   "metadata": {},
   "outputs": [
    {
     "name": "stdout",
     "output_type": "stream",
     "text": [
      "A: ['hard rock', 10, 1.2]\n",
      "B: ['hard rock', 10, 1.2]\n"
     ]
    }
   ],
   "source": [
    "#copy and clone lists\n",
    "A = [\"hard rock\", 10, 1.2]\n",
    "B =A\n",
    "print('A:', A)\n",
    "print('B:', B)"
   ]
  },
  {
   "cell_type": "code",
   "execution_count": 23,
   "id": "9a32e416",
   "metadata": {},
   "outputs": [
    {
     "name": "stdout",
     "output_type": "stream",
     "text": [
      "B[0]: hard rock\n",
      "B[0]: banana\n"
     ]
    }
   ],
   "source": [
    "# Examine the copy by reference\n",
    "print('B[0]:', B[0])\n",
    "A[0] = \"banana\"\n",
    "print('B[0]:', B[0])"
   ]
  },
  {
   "cell_type": "code",
   "execution_count": 24,
   "id": "4b5412e1",
   "metadata": {},
   "outputs": [
    {
     "data": {
      "text/plain": [
       "['banana', 10, 1.2]"
      ]
     },
     "execution_count": 24,
     "metadata": {},
     "output_type": "execute_result"
    }
   ],
   "source": [
    "# Clone  the list A\n",
    "B = A[:]\n",
    "B"
   ]
  },
  {
   "cell_type": "code",
   "execution_count": 25,
   "id": "ca63f7ff",
   "metadata": {},
   "outputs": [
    {
     "name": "stdout",
     "output_type": "stream",
     "text": [
      "B[0]: banana\n",
      "B[0]: banana\n"
     ]
    }
   ],
   "source": [
    "print('B[0]:', B[0])\n",
    "A[0] = \"hard rock\"\n",
    "print('B[0]:', B[0])"
   ]
  },
  {
   "cell_type": "markdown",
   "id": "383fbf79",
   "metadata": {},
   "source": [
    "# sets"
   ]
  },
  {
   "cell_type": "code",
   "execution_count": 26,
   "id": "0ad2871a",
   "metadata": {},
   "outputs": [
    {
     "data": {
      "text/plain": [
       "{'R&B', 'disco', 'hard rock', 'pop', 'rock', 'soul'}"
      ]
     },
     "execution_count": 26,
     "metadata": {},
     "output_type": "execute_result"
    }
   ],
   "source": [
    "set1 = {\"pop\", \"rock\", \"soul\", \"hard rock\", \"rock\", \"R&B\", \"rock\", \"disco\"}#creating a set\n",
    "set1"
   ]
  },
  {
   "cell_type": "code",
   "execution_count": 27,
   "id": "672d90c8",
   "metadata": {},
   "outputs": [
    {
     "data": {
      "text/plain": [
       "{'AC/DC', 'Back in Black', 'Thriller'}"
      ]
     },
     "execution_count": 27,
     "metadata": {},
     "output_type": "execute_result"
    }
   ],
   "source": [
    "A = set([\"Thriller\", \"Back in Black\", \"AC/DC\"])\n",
    "A"
   ]
  },
  {
   "cell_type": "code",
   "execution_count": 28,
   "id": "ece20633",
   "metadata": {},
   "outputs": [
    {
     "data": {
      "text/plain": [
       "{'AC/DC', 'Back in Black', 'NSYNC', 'Thriller'}"
      ]
     },
     "execution_count": 28,
     "metadata": {},
     "output_type": "execute_result"
    }
   ],
   "source": [
    "A.add(\"NSYNC\")#adding element to set\n",
    "A"
   ]
  },
  {
   "cell_type": "code",
   "execution_count": 29,
   "id": "dbcfb022",
   "metadata": {},
   "outputs": [
    {
     "data": {
      "text/plain": [
       "{'AC/DC', 'Back in Black', 'Thriller'}"
      ]
     },
     "execution_count": 29,
     "metadata": {},
     "output_type": "execute_result"
    }
   ],
   "source": [
    "A.remove(\"NSYNC\")#removing elemet to set\n",
    "A"
   ]
  },
  {
   "cell_type": "code",
   "execution_count": 30,
   "id": "a80180d3",
   "metadata": {},
   "outputs": [
    {
     "data": {
      "text/plain": [
       "True"
      ]
     },
     "execution_count": 30,
     "metadata": {},
     "output_type": "execute_result"
    }
   ],
   "source": [
    "\"AC/DC\" in A#verifying the element"
   ]
  },
  {
   "cell_type": "code",
   "execution_count": 31,
   "id": "9c90c425",
   "metadata": {},
   "outputs": [
    {
     "data": {
      "text/plain": [
       "({'AC/DC', 'Back in Black', 'Thriller'},\n",
       " {'AC/DC', 'Back in Black', 'The Dark Side of the Moon'})"
      ]
     },
     "execution_count": 31,
     "metadata": {},
     "output_type": "execute_result"
    }
   ],
   "source": [
    "album_set1 = set([\"Thriller\", 'AC/DC', 'Back in Black'])\n",
    "album_set2 = set([ \"AC/DC\", \"Back in Black\", \"The Dark Side of the Moon\"])\n",
    "album_set1, album_set2"
   ]
  },
  {
   "cell_type": "code",
   "execution_count": 32,
   "id": "feb2bb3d",
   "metadata": {},
   "outputs": [
    {
     "data": {
      "text/plain": [
       "{'AC/DC', 'Back in Black'}"
      ]
     },
     "execution_count": 32,
     "metadata": {},
     "output_type": "execute_result"
    }
   ],
   "source": [
    "# Find the intersections\n",
    "\n",
    "intersection = album_set1 & album_set2\n",
    "intersection"
   ]
  },
  {
   "cell_type": "code",
   "execution_count": 33,
   "id": "205d36c3",
   "metadata": {},
   "outputs": [
    {
     "data": {
      "text/plain": [
       "{'AC/DC', 'Back in Black'}"
      ]
     },
     "execution_count": 33,
     "metadata": {},
     "output_type": "execute_result"
    }
   ],
   "source": [
    "album_set1.intersection(album_set2)"
   ]
  },
  {
   "cell_type": "code",
   "execution_count": 34,
   "id": "8b45ef60",
   "metadata": {},
   "outputs": [
    {
     "data": {
      "text/plain": [
       "{'Thriller'}"
      ]
     },
     "execution_count": 34,
     "metadata": {},
     "output_type": "execute_result"
    }
   ],
   "source": [
    "album_set1.difference(album_set2)#finding difference"
   ]
  },
  {
   "cell_type": "code",
   "execution_count": 35,
   "id": "736e7b4a",
   "metadata": {},
   "outputs": [
    {
     "data": {
      "text/plain": [
       "{'AC/DC', 'Back in Black', 'The Dark Side of the Moon', 'Thriller'}"
      ]
     },
     "execution_count": 35,
     "metadata": {},
     "output_type": "execute_result"
    }
   ],
   "source": [
    "album_set1.union(album_set2)#finding union of two sets"
   ]
  },
  {
   "cell_type": "code",
   "execution_count": 36,
   "id": "8689929f",
   "metadata": {},
   "outputs": [
    {
     "data": {
      "text/plain": [
       "False"
      ]
     },
     "execution_count": 36,
     "metadata": {},
     "output_type": "execute_result"
    }
   ],
   "source": [
    "# Check if superset\n",
    "\n",
    "set(album_set1).issuperset(album_set2)"
   ]
  },
  {
   "cell_type": "code",
   "execution_count": 37,
   "id": "94db6b72",
   "metadata": {},
   "outputs": [
    {
     "data": {
      "text/plain": [
       "False"
      ]
     },
     "execution_count": 37,
     "metadata": {},
     "output_type": "execute_result"
    }
   ],
   "source": [
    "# Check if subset\n",
    "\n",
    "set(album_set2).issubset(album_set1)"
   ]
  },
  {
   "cell_type": "code",
   "execution_count": 38,
   "id": "383f9d3e",
   "metadata": {},
   "outputs": [
    {
     "data": {
      "text/plain": [
       "True"
      ]
     },
     "execution_count": 38,
     "metadata": {},
     "output_type": "execute_result"
    }
   ],
   "source": [
    "set({\"Back in Black\", \"AC/DC\"}).issubset(album_set1)"
   ]
  },
  {
   "cell_type": "markdown",
   "id": "5042b1cb",
   "metadata": {},
   "source": [
    "# Dictionaries "
   ]
  },
  {
   "cell_type": "code",
   "execution_count": 39,
   "id": "bc21524d",
   "metadata": {},
   "outputs": [
    {
     "data": {
      "text/plain": [
       "{'key1': 1,\n",
       " 'key2': '2',\n",
       " 'key3': [3, 3, 3],\n",
       " 'key4': (4, 4, 4),\n",
       " 'key5': 5,\n",
       " (0, 1): 6}"
      ]
     },
     "execution_count": 39,
     "metadata": {},
     "output_type": "execute_result"
    }
   ],
   "source": [
    "# Create the dictionary\n",
    "\n",
    "Dict = {\"key1\": 1, \"key2\": \"2\", \"key3\": [3, 3, 3], \"key4\": (4, 4, 4), ('key5'): 5, (0, 1): 6}\n",
    "Dict"
   ]
  },
  {
   "cell_type": "code",
   "execution_count": 40,
   "id": "daf4488f",
   "metadata": {},
   "outputs": [
    {
     "data": {
      "text/plain": [
       "1"
      ]
     },
     "execution_count": 40,
     "metadata": {},
     "output_type": "execute_result"
    }
   ],
   "source": [
    "# Access to the value by the key\n",
    "\n",
    "Dict[\"key1\"]"
   ]
  },
  {
   "cell_type": "code",
   "execution_count": 41,
   "id": "898c6a80",
   "metadata": {},
   "outputs": [
    {
     "data": {
      "text/plain": [
       "dict_keys(['key1', 'key2', 'key3', 'key4', 'key5', (0, 1)])"
      ]
     },
     "execution_count": 41,
     "metadata": {},
     "output_type": "execute_result"
    }
   ],
   "source": [
    "Dict.keys()#getting all keys"
   ]
  },
  {
   "cell_type": "code",
   "execution_count": 43,
   "id": "d206a032",
   "metadata": {},
   "outputs": [
    {
     "data": {
      "text/plain": [
       "dict_values([1, '2', [3, 3, 3], (4, 4, 4), 5, 6])"
      ]
     },
     "execution_count": 43,
     "metadata": {},
     "output_type": "execute_result"
    }
   ],
   "source": [
    "Dict.values()#getting all values"
   ]
  },
  {
   "cell_type": "code",
   "execution_count": 45,
   "id": "478b6a23",
   "metadata": {},
   "outputs": [
    {
     "data": {
      "text/plain": [
       "{'key1': 1,\n",
       " 'key2': '2',\n",
       " 'key3': [3, 3, 3],\n",
       " 'key4': (4, 4, 4),\n",
       " 'key5': 5,\n",
       " (0, 1): 6,\n",
       " 'key6': '10'}"
      ]
     },
     "execution_count": 45,
     "metadata": {},
     "output_type": "execute_result"
    }
   ],
   "source": [
    "Dict['key6']='10'# Access to the value by the key\n",
    "Dict"
   ]
  },
  {
   "cell_type": "code",
   "execution_count": null,
   "id": "7a34ce09",
   "metadata": {},
   "outputs": [],
   "source": []
  }
 ],
 "metadata": {
  "kernelspec": {
   "display_name": "Python 3 (ipykernel)",
   "language": "python",
   "name": "python3"
  },
  "language_info": {
   "codemirror_mode": {
    "name": "ipython",
    "version": 3
   },
   "file_extension": ".py",
   "mimetype": "text/x-python",
   "name": "python",
   "nbconvert_exporter": "python",
   "pygments_lexer": "ipython3",
   "version": "3.9.7"
  }
 },
 "nbformat": 4,
 "nbformat_minor": 5
}
